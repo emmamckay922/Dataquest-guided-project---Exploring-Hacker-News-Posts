{
 "cells": [
  {
   "cell_type": "markdown",
   "metadata": {},
   "source": [
    "This is a guided project I did through my Dataquest bootcamp. It analyzes posts on the website Hacker News to determine which types of posts, and which post-times receive the most comments. It's meant to give you an idea of my skills so far in Python."
   ]
  },
  {
   "cell_type": "code",
   "execution_count": 10,
   "metadata": {
    "collapsed": false
   },
   "outputs": [
    {
     "name": "stdout",
     "output_type": "stream",
     "text": [
      "[['id', 'title', 'url', 'num_points', 'num_comments', 'author', 'created_at'], ['12224879', 'Interactive Dynamic Video', 'http://www.interactivedynamicvideo.com/', '386', '52', 'ne0phyte', '8/4/2016 11:52'], ['10975351', 'How to Use Open Source and Shut the Fuck Up at the Same Time', 'http://hueniverse.com/2016/01/26/how-to-use-open-source-and-shut-the-fuck-up-at-the-same-time/', '39', '10', 'josep2', '1/26/2016 19:30'], ['11964716', \"Florida DJs May Face Felony for April Fools' Water Joke\", 'http://www.thewire.com/entertainment/2013/04/florida-djs-april-fools-water-joke/63798/', '2', '1', 'vezycash', '6/23/2016 22:20']]\n"
     ]
    }
   ],
   "source": [
    "from csv import reader\n",
    "opened_file=open(\"hacker_news.csv\")\n",
    "hn=reader(opened_file)\n",
    "hn=list(hn)\n",
    "print(hn[:4])"
   ]
  },
  {
   "cell_type": "code",
   "execution_count": 11,
   "metadata": {
    "collapsed": false,
    "scrolled": true
   },
   "outputs": [
    {
     "name": "stdout",
     "output_type": "stream",
     "text": [
      "['id', 'title', 'url', 'num_points', 'num_comments', 'author', 'created_at']\n",
      "[['12224879', 'Interactive Dynamic Video', 'http://www.interactivedynamicvideo.com/', '386', '52', 'ne0phyte', '8/4/2016 11:52'], ['10975351', 'How to Use Open Source and Shut the Fuck Up at the Same Time', 'http://hueniverse.com/2016/01/26/how-to-use-open-source-and-shut-the-fuck-up-at-the-same-time/', '39', '10', 'josep2', '1/26/2016 19:30'], ['11964716', \"Florida DJs May Face Felony for April Fools' Water Joke\", 'http://www.thewire.com/entertainment/2013/04/florida-djs-april-fools-water-joke/63798/', '2', '1', 'vezycash', '6/23/2016 22:20'], ['11919867', 'Technology ventures: From Idea to Enterprise', 'https://www.amazon.com/Technology-Ventures-Enterprise-Thomas-Byers/dp/0073523429', '3', '1', 'hswarna', '6/17/2016 0:01']]\n"
     ]
    }
   ],
   "source": [
    "headers=hn[0]\n",
    "hn=hn[1:]\n",
    "print(headers)\n",
    "print(hn[:4])"
   ]
  },
  {
   "cell_type": "code",
   "execution_count": 19,
   "metadata": {
    "collapsed": false
   },
   "outputs": [
    {
     "name": "stdout",
     "output_type": "stream",
     "text": [
      "1744\n",
      "1162\n",
      "17194\n"
     ]
    }
   ],
   "source": [
    "ask_posts=[]\n",
    "show_posts=[]\n",
    "other_posts=[]\n",
    "for row in hn:\n",
    "    title=row[1]\n",
    "    title=title.lower()\n",
    "    if title.startswith('ask hn'):\n",
    "        ask_posts.append(row)\n",
    "    elif title.startswith('show hn'):\n",
    "        show_posts.append(row)\n",
    "    else:\n",
    "        other_posts.append(row)\n",
    "print(len(ask_posts))\n",
    "print(len(show_posts))\n",
    "print(len(other_posts))"
   ]
  },
  {
   "cell_type": "code",
   "execution_count": 21,
   "metadata": {
    "collapsed": false
   },
   "outputs": [
    {
     "name": "stdout",
     "output_type": "stream",
     "text": [
      "14.038417431192661\n",
      "10.31669535283993\n"
     ]
    }
   ],
   "source": [
    "total_ask_comments=0\n",
    "for row in ask_posts:\n",
    "    comments=int(row[4])\n",
    "    total_ask_comments+=comments\n",
    "avg_ask_comments=total_ask_comments/len(ask_posts)\n",
    "print(avg_ask_comments)\n",
    "\n",
    "total_show_comments=0\n",
    "for row in show_posts:\n",
    "    comments=int(row[4])\n",
    "    total_show_comments+=comments\n",
    "avg_show_comments=total_show_comments/len(show_posts)\n",
    "\n",
    "print(avg_show_comments)\n"
   ]
  },
  {
   "cell_type": "code",
   "execution_count": 28,
   "metadata": {
    "collapsed": false
   },
   "outputs": [],
   "source": [
    "import datetime as dt\n",
    "result_list=[]\n",
    "for row in ask_posts:\n",
    "    time_comments_list=[]\n",
    "    created_at=row[6]\n",
    "    time_comments_list.append(created_at)\n",
    "    comments=int(row[4])\n",
    "    time_comments_list.append(comments)\n",
    "    result_list.append(time_comments_list)\n",
    "counts_by_hour={}\n",
    "comments_by_hour={}\n",
    "for row in result_list:\n",
    "    date=dt.datetime.strptime(row[0], \"%m/%d/%Y %H:%M\")\n",
    "    hour=date.hour\n",
    "    if hour not in counts_by_hour:\n",
    "        counts_by_hour[hour]=1\n",
    "        comments_by_hour[hour]=row[1]\n",
    "    else:\n",
    "        counts_by_hour[hour]+=1\n",
    "        comments_by_hour[hour]+=row[1]\n",
    "    "
   ]
  },
  {
   "cell_type": "code",
   "execution_count": 34,
   "metadata": {
    "collapsed": false
   },
   "outputs": [
    {
     "name": "stdout",
     "output_type": "stream",
     "text": [
      "[[0, 8.127272727272727], [1, 11.383333333333333], [2, 23.810344827586206], [3, 7.796296296296297], [4, 7.170212765957447], [5, 10.08695652173913], [6, 9.022727272727273], [7, 7.852941176470588], [8, 10.25], [9, 5.5777777777777775], [10, 13.440677966101696], [11, 11.051724137931034], [12, 9.41095890410959], [13, 14.741176470588234], [14, 13.233644859813085], [15, 38.5948275862069], [16, 16.796296296296298], [17, 11.46], [18, 13.20183486238532], [19, 10.8], [20, 21.525], [21, 16.009174311926607], [22, 6.746478873239437], [23, 7.985294117647059]]\n"
     ]
    }
   ],
   "source": [
    "avg_by_hour=[]\n",
    "\n",
    "for hour_item in counts_by_hour:\n",
    "    hour_avgcom_list=[]\n",
    "    hour_avgcom_list.append(hour_item)\n",
    "    average_comments=comments_by_hour[hour_item]/counts_by_hour[hour_item]\n",
    "    hour_avgcom_list.append(average_comments)\n",
    "    avg_by_hour.append(hour_avgcom_list)\n",
    "\n",
    "print(avg_by_hour)"
   ]
  },
  {
   "cell_type": "code",
   "execution_count": 54,
   "metadata": {
    "collapsed": false
   },
   "outputs": [
    {
     "name": "stdout",
     "output_type": "stream",
     "text": [
      "[[8.127272727272727, 0], [11.383333333333333, 1], [23.810344827586206, 2], [7.796296296296297, 3], [7.170212765957447, 4], [10.08695652173913, 5], [9.022727272727273, 6], [7.852941176470588, 7], [10.25, 8], [5.5777777777777775, 9], [13.440677966101696, 10], [11.051724137931034, 11], [9.41095890410959, 12], [14.741176470588234, 13], [13.233644859813085, 14], [38.5948275862069, 15], [16.796296296296298, 16], [11.46, 17], [13.20183486238532, 18], [10.8, 19], [21.525, 20], [16.009174311926607, 21], [6.746478873239437, 22], [7.985294117647059, 23]]\n",
      "[[38.5948275862069, 15], [23.810344827586206, 2], [21.525, 20], [16.796296296296298, 16], [16.009174311926607, 21], [14.741176470588234, 13], [13.440677966101696, 10], [13.233644859813085, 14], [13.20183486238532, 18], [11.46, 17], [11.383333333333333, 1], [11.051724137931034, 11], [10.8, 19], [10.25, 8], [10.08695652173913, 5], [9.41095890410959, 12], [9.022727272727273, 6], [8.127272727272727, 0], [7.985294117647059, 23], [7.852941176470588, 7], [7.796296296296297, 3], [7.170212765957447, 4], [6.746478873239437, 22], [5.5777777777777775, 9]]\n",
      "Top 5 Hours for Ask Post Comments\n",
      "15:00\n",
      "15:00: 38.59 average comments per post\n",
      "02:00\n",
      "02:00: 23.81 average comments per post\n",
      "20:00\n",
      "20:00: 21.52 average comments per post\n",
      "16:00\n",
      "16:00: 16.80 average comments per post\n",
      "21:00\n",
      "21:00: 16.01 average comments per post\n"
     ]
    }
   ],
   "source": [
    "swap_avg_by_hour=[]\n",
    "\n",
    "for row in avg_by_hour:\n",
    "    swapped_list=[]\n",
    "    swapped_list.append(row[1])\n",
    "    swapped_list.append(row[0])\n",
    "    swap_avg_by_hour.append(swapped_list)\n",
    "print(swap_avg_by_hour)\n",
    "\n",
    "sorted_swap=sorted(swap_avg_by_hour, reverse=True)\n",
    "print(sorted_swap)\n",
    "\n",
    "print(\"Top 5 Hours for Ask Post Comments\")\n",
    "\n",
    "for row in sorted_swap[0:5]:\n",
    "    the_hour=str(row[1])\n",
    "    datetime_hour=dt.datetime.strptime(the_hour, \"%H\")\n",
    "    formatted_hour= datetime_hour.strftime(\"%H:%M\")\n",
    "    print(formatted_hour)\n",
    "    print(\"{hour}: {comments:.2f} average comments per post\".format(hour=formatted_hour, comments=row[0]))"
   ]
  },
  {
   "cell_type": "code",
   "execution_count": null,
   "metadata": {
    "collapsed": true
   },
   "outputs": [],
   "source": []
  }
 ],
 "metadata": {
  "kernelspec": {
   "display_name": "Python 3",
   "language": "python",
   "name": "python3"
  },
  "language_info": {
   "codemirror_mode": {
    "name": "ipython",
    "version": 3
   },
   "file_extension": ".py",
   "mimetype": "text/x-python",
   "name": "python",
   "nbconvert_exporter": "python",
   "pygments_lexer": "ipython3",
   "version": "3.4.3"
  }
 },
 "nbformat": 4,
 "nbformat_minor": 2
}
